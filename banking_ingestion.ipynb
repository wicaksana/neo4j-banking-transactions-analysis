{
 "cells": [
  {
   "cell_type": "code",
   "execution_count": 1,
   "id": "fbeed82e-38e5-4cab-ba19-7eaa4a183012",
   "metadata": {},
   "outputs": [
    {
     "name": "stdout",
     "output_type": "stream",
     "text": [
      "Requirement already satisfied: neo4j in /Users/arif/anaconda3/lib/python3.10/site-packages (5.9.0)\n",
      "Requirement already satisfied: pytz in /Users/arif/anaconda3/lib/python3.10/site-packages (from neo4j) (2022.7)\n"
     ]
    }
   ],
   "source": [
    "!pip install neo4j"
   ]
  },
  {
   "cell_type": "markdown",
   "id": "86a9c656-e7f9-46f3-a438-f06d01b15eae",
   "metadata": {},
   "source": [
    "## Datasets"
   ]
  },
  {
   "cell_type": "code",
   "execution_count": 2,
   "id": "ed47da76-5baf-4d94-9d88-e92b934ba070",
   "metadata": {},
   "outputs": [],
   "source": [
    "import pandas as pd"
   ]
  },
  {
   "cell_type": "markdown",
   "id": "8cc9836e-6ab1-407d-b81a-d9c0d9e724fa",
   "metadata": {},
   "source": [
    "### `customers`"
   ]
  },
  {
   "cell_type": "code",
   "execution_count": 3,
   "id": "07aba00d-188b-42cd-a8b0-481efc567b00",
   "metadata": {},
   "outputs": [],
   "source": [
    "customers = pd.read_csv('datasets/customers.csv')"
   ]
  },
  {
   "cell_type": "code",
   "execution_count": 4,
   "id": "bbb59d33-34e5-4237-b67e-1bca05dd605c",
   "metadata": {},
   "outputs": [
    {
     "data": {
      "text/plain": [
       "CIF              100\n",
       "Age              100\n",
       "EmailAddress     100\n",
       "FirstName        100\n",
       "LastName         100\n",
       "PhoneNumber      100\n",
       "Gender           100\n",
       "Address          100\n",
       "Country          100\n",
       "JobTitle         100\n",
       "CardNumber       100\n",
       "AccountNumber    100\n",
       "dtype: int64"
      ]
     },
     "execution_count": 4,
     "metadata": {},
     "output_type": "execute_result"
    }
   ],
   "source": [
    "customers.count()"
   ]
  },
  {
   "cell_type": "code",
   "execution_count": 5,
   "id": "27560bed-27b1-4c48-acc2-40bff790a190",
   "metadata": {},
   "outputs": [
    {
     "data": {
      "text/html": [
       "<div>\n",
       "<style scoped>\n",
       "    .dataframe tbody tr th:only-of-type {\n",
       "        vertical-align: middle;\n",
       "    }\n",
       "\n",
       "    .dataframe tbody tr th {\n",
       "        vertical-align: top;\n",
       "    }\n",
       "\n",
       "    .dataframe thead th {\n",
       "        text-align: right;\n",
       "    }\n",
       "</style>\n",
       "<table border=\"1\" class=\"dataframe\">\n",
       "  <thead>\n",
       "    <tr style=\"text-align: right;\">\n",
       "      <th></th>\n",
       "      <th>CIF</th>\n",
       "      <th>Age</th>\n",
       "      <th>EmailAddress</th>\n",
       "      <th>FirstName</th>\n",
       "      <th>LastName</th>\n",
       "      <th>PhoneNumber</th>\n",
       "      <th>Gender</th>\n",
       "      <th>Address</th>\n",
       "      <th>Country</th>\n",
       "      <th>JobTitle</th>\n",
       "      <th>CardNumber</th>\n",
       "      <th>AccountNumber</th>\n",
       "    </tr>\n",
       "  </thead>\n",
       "  <tbody>\n",
       "    <tr>\n",
       "      <th>0</th>\n",
       "      <td>1</td>\n",
       "      <td>26</td>\n",
       "      <td>Greta_Swan6281@corti.com</td>\n",
       "      <td>Greta</td>\n",
       "      <td>Swan</td>\n",
       "      <td>6-254-223-4334</td>\n",
       "      <td>Female</td>\n",
       "      <td>Armory  Tunnel, 3699</td>\n",
       "      <td>Egypt</td>\n",
       "      <td>Bellman</td>\n",
       "      <td>348-14-6088</td>\n",
       "      <td>650-63-6154</td>\n",
       "    </tr>\n",
       "    <tr>\n",
       "      <th>1</th>\n",
       "      <td>2</td>\n",
       "      <td>41</td>\n",
       "      <td>Rebecca_Corbett5111@ovock.tech</td>\n",
       "      <td>Rebecca</td>\n",
       "      <td>Corbett</td>\n",
       "      <td>5-720-670-7047</td>\n",
       "      <td>Female</td>\n",
       "      <td>Apostle  Tunnel, 4850</td>\n",
       "      <td>Madagascar</td>\n",
       "      <td>Clerk</td>\n",
       "      <td>285-83-6186</td>\n",
       "      <td>875-13-4278</td>\n",
       "    </tr>\n",
       "    <tr>\n",
       "      <th>2</th>\n",
       "      <td>3</td>\n",
       "      <td>68</td>\n",
       "      <td>Dani_Flanders7065@qater.org</td>\n",
       "      <td>Dani</td>\n",
       "      <td>Flanders</td>\n",
       "      <td>8-150-728-6781</td>\n",
       "      <td>Female</td>\n",
       "      <td>Bishop   Street, 1298</td>\n",
       "      <td>The Gambia</td>\n",
       "      <td>Business Broker</td>\n",
       "      <td>811-84-3310</td>\n",
       "      <td>566-83-8044</td>\n",
       "    </tr>\n",
       "    <tr>\n",
       "      <th>3</th>\n",
       "      <td>4</td>\n",
       "      <td>68</td>\n",
       "      <td>Morgan_James9389@sveldo.biz</td>\n",
       "      <td>Morgan</td>\n",
       "      <td>James</td>\n",
       "      <td>7-215-157-6623</td>\n",
       "      <td>Female</td>\n",
       "      <td>Wadham  Avenue, 8018</td>\n",
       "      <td>Guinea-Bissau</td>\n",
       "      <td>Banker</td>\n",
       "      <td>773-80-8680</td>\n",
       "      <td>532-16-1750</td>\n",
       "    </tr>\n",
       "    <tr>\n",
       "      <th>4</th>\n",
       "      <td>5</td>\n",
       "      <td>51</td>\n",
       "      <td>Erick_Ingram7572@extex.org</td>\n",
       "      <td>Erick</td>\n",
       "      <td>Ingram</td>\n",
       "      <td>8-603-106-4884</td>\n",
       "      <td>Male</td>\n",
       "      <td>Chamberlain  Pass, 3481</td>\n",
       "      <td>Russia</td>\n",
       "      <td>Electrician</td>\n",
       "      <td>171-24-1530</td>\n",
       "      <td>683-00-5812</td>\n",
       "    </tr>\n",
       "  </tbody>\n",
       "</table>\n",
       "</div>"
      ],
      "text/plain": [
       "   CIF  Age                    EmailAddress FirstName  LastName  \\\n",
       "0    1   26        Greta_Swan6281@corti.com     Greta      Swan   \n",
       "1    2   41  Rebecca_Corbett5111@ovock.tech   Rebecca   Corbett   \n",
       "2    3   68     Dani_Flanders7065@qater.org      Dani  Flanders   \n",
       "3    4   68     Morgan_James9389@sveldo.biz    Morgan     James   \n",
       "4    5   51      Erick_Ingram7572@extex.org     Erick    Ingram   \n",
       "\n",
       "      PhoneNumber  Gender                  Address        Country  \\\n",
       "0  6-254-223-4334  Female     Armory  Tunnel, 3699          Egypt   \n",
       "1  5-720-670-7047  Female    Apostle  Tunnel, 4850     Madagascar   \n",
       "2  8-150-728-6781  Female    Bishop   Street, 1298     The Gambia   \n",
       "3  7-215-157-6623  Female     Wadham  Avenue, 8018  Guinea-Bissau   \n",
       "4  8-603-106-4884    Male  Chamberlain  Pass, 3481         Russia   \n",
       "\n",
       "          JobTitle   CardNumber AccountNumber  \n",
       "0          Bellman  348-14-6088   650-63-6154  \n",
       "1            Clerk  285-83-6186   875-13-4278  \n",
       "2  Business Broker  811-84-3310   566-83-8044  \n",
       "3           Banker  773-80-8680   532-16-1750  \n",
       "4      Electrician  171-24-1530   683-00-5812  "
      ]
     },
     "execution_count": 5,
     "metadata": {},
     "output_type": "execute_result"
    }
   ],
   "source": [
    "customers.head()"
   ]
  },
  {
   "cell_type": "code",
   "execution_count": 6,
   "id": "ab0f9eb3-6c11-448b-825c-14ea97c8cd49",
   "metadata": {},
   "outputs": [
    {
     "data": {
      "text/plain": [
       "CIF               int64\n",
       "Age               int64\n",
       "EmailAddress     object\n",
       "FirstName        object\n",
       "LastName         object\n",
       "PhoneNumber      object\n",
       "Gender           object\n",
       "Address          object\n",
       "Country          object\n",
       "JobTitle         object\n",
       "CardNumber       object\n",
       "AccountNumber    object\n",
       "dtype: object"
      ]
     },
     "execution_count": 6,
     "metadata": {},
     "output_type": "execute_result"
    }
   ],
   "source": [
    "customers.dtypes"
   ]
  },
  {
   "cell_type": "markdown",
   "id": "154a3a0e-785a-4942-9e97-6f2da755e53f",
   "metadata": {},
   "source": [
    "### `purchases`"
   ]
  },
  {
   "cell_type": "code",
   "execution_count": 7,
   "id": "d470d954-b785-45ca-a253-dd27b96d1388",
   "metadata": {},
   "outputs": [],
   "source": [
    "purchases = pd.read_csv('datasets/purchases.csv')"
   ]
  },
  {
   "cell_type": "code",
   "execution_count": 8,
   "id": "e1f8f26e-f253-4bbb-b6db-3d5e076338a7",
   "metadata": {},
   "outputs": [
    {
     "data": {
      "text/plain": [
       "TransactionID       10000\n",
       "CardNumber          10000\n",
       "Merchant            10000\n",
       "Amount              10000\n",
       "PurchaseDatetime    10000\n",
       "CardIssuer          10000\n",
       "dtype: int64"
      ]
     },
     "execution_count": 8,
     "metadata": {},
     "output_type": "execute_result"
    }
   ],
   "source": [
    "purchases.count()"
   ]
  },
  {
   "cell_type": "code",
   "execution_count": 9,
   "id": "56915fef-391f-4238-a4cc-dc715244e236",
   "metadata": {},
   "outputs": [
    {
     "data": {
      "text/html": [
       "<div>\n",
       "<style scoped>\n",
       "    .dataframe tbody tr th:only-of-type {\n",
       "        vertical-align: middle;\n",
       "    }\n",
       "\n",
       "    .dataframe tbody tr th {\n",
       "        vertical-align: top;\n",
       "    }\n",
       "\n",
       "    .dataframe thead th {\n",
       "        text-align: right;\n",
       "    }\n",
       "</style>\n",
       "<table border=\"1\" class=\"dataframe\">\n",
       "  <thead>\n",
       "    <tr style=\"text-align: right;\">\n",
       "      <th></th>\n",
       "      <th>TransactionID</th>\n",
       "      <th>CardNumber</th>\n",
       "      <th>Merchant</th>\n",
       "      <th>Amount</th>\n",
       "      <th>PurchaseDatetime</th>\n",
       "      <th>CardIssuer</th>\n",
       "    </tr>\n",
       "  </thead>\n",
       "  <tbody>\n",
       "    <tr>\n",
       "      <th>0</th>\n",
       "      <td>751133</td>\n",
       "      <td>348-14-6088</td>\n",
       "      <td>Biolife Grup</td>\n",
       "      <td>9849.265683</td>\n",
       "      <td>2021-04-12 15:32:22Z</td>\n",
       "      <td>Bank of America</td>\n",
       "    </tr>\n",
       "    <tr>\n",
       "      <th>1</th>\n",
       "      <td>268445</td>\n",
       "      <td>285-83-6186</td>\n",
       "      <td>Facebook</td>\n",
       "      <td>2502.657530</td>\n",
       "      <td>2021-09-05 04:27:34Z</td>\n",
       "      <td>Visa</td>\n",
       "    </tr>\n",
       "    <tr>\n",
       "      <th>2</th>\n",
       "      <td>748511</td>\n",
       "      <td>811-84-3310</td>\n",
       "      <td>Comodo</td>\n",
       "      <td>6406.732352</td>\n",
       "      <td>2021-01-04 05:00:18Z</td>\n",
       "      <td>Chase</td>\n",
       "    </tr>\n",
       "    <tr>\n",
       "      <th>3</th>\n",
       "      <td>777162</td>\n",
       "      <td>773-80-8680</td>\n",
       "      <td>Demaco</td>\n",
       "      <td>12698.287510</td>\n",
       "      <td>2021-07-17 18:34:49Z</td>\n",
       "      <td>American Express</td>\n",
       "    </tr>\n",
       "    <tr>\n",
       "      <th>4</th>\n",
       "      <td>523244</td>\n",
       "      <td>171-24-1530</td>\n",
       "      <td>Erickson</td>\n",
       "      <td>13496.903670</td>\n",
       "      <td>2021-06-11 15:34:42Z</td>\n",
       "      <td>Chase</td>\n",
       "    </tr>\n",
       "  </tbody>\n",
       "</table>\n",
       "</div>"
      ],
      "text/plain": [
       "   TransactionID   CardNumber      Merchant        Amount  \\\n",
       "0         751133  348-14-6088  Biolife Grup   9849.265683   \n",
       "1         268445  285-83-6186      Facebook   2502.657530   \n",
       "2         748511  811-84-3310        Comodo   6406.732352   \n",
       "3         777162  773-80-8680        Demaco  12698.287510   \n",
       "4         523244  171-24-1530      Erickson  13496.903670   \n",
       "\n",
       "       PurchaseDatetime        CardIssuer  \n",
       "0  2021-04-12 15:32:22Z   Bank of America  \n",
       "1  2021-09-05 04:27:34Z              Visa  \n",
       "2  2021-01-04 05:00:18Z             Chase  \n",
       "3  2021-07-17 18:34:49Z  American Express  \n",
       "4  2021-06-11 15:34:42Z             Chase  "
      ]
     },
     "execution_count": 9,
     "metadata": {},
     "output_type": "execute_result"
    }
   ],
   "source": [
    "purchases.head()"
   ]
  },
  {
   "cell_type": "markdown",
   "id": "2a5b8420-5dbc-40d6-ad5d-633a958ad398",
   "metadata": {},
   "source": [
    "Find out if there is duplicate transaction id"
   ]
  },
  {
   "cell_type": "code",
   "execution_count": 10,
   "id": "e0e2ed2b-198f-435e-99f0-3029a7d573e2",
   "metadata": {},
   "outputs": [
    {
     "data": {
      "text/plain": [
       "TransactionID\n",
       "739097    2\n",
       "868861    2\n",
       "639164    2\n",
       "685230    2\n",
       "466819    2\n",
       "         ..\n",
       "401599    1\n",
       "401627    1\n",
       "401764    1\n",
       "401765    1\n",
       "999987    1\n",
       "Name: TransactionID, Length: 9958, dtype: int64"
      ]
     },
     "execution_count": 10,
     "metadata": {},
     "output_type": "execute_result"
    }
   ],
   "source": [
    "purchases.groupby(['TransactionID'])['TransactionID'].size().sort_values(ascending=False)"
   ]
  },
  {
   "cell_type": "markdown",
   "id": "36f7643a-2d13-4788-a3ea-dbb63294d5a9",
   "metadata": {},
   "source": [
    "See the sample of duplicate tx ids"
   ]
  },
  {
   "cell_type": "code",
   "execution_count": 14,
   "id": "cb79b053-9af6-4999-ad85-db99af2fb558",
   "metadata": {},
   "outputs": [
    {
     "data": {
      "text/html": [
       "<div>\n",
       "<style scoped>\n",
       "    .dataframe tbody tr th:only-of-type {\n",
       "        vertical-align: middle;\n",
       "    }\n",
       "\n",
       "    .dataframe tbody tr th {\n",
       "        vertical-align: top;\n",
       "    }\n",
       "\n",
       "    .dataframe thead th {\n",
       "        text-align: right;\n",
       "    }\n",
       "</style>\n",
       "<table border=\"1\" class=\"dataframe\">\n",
       "  <thead>\n",
       "    <tr style=\"text-align: right;\">\n",
       "      <th></th>\n",
       "      <th>TransactionID</th>\n",
       "      <th>CardNumber</th>\n",
       "      <th>Merchant</th>\n",
       "      <th>Amount</th>\n",
       "      <th>PurchaseDatetime</th>\n",
       "      <th>CardIssuer</th>\n",
       "      <th>rank</th>\n",
       "    </tr>\n",
       "  </thead>\n",
       "  <tbody>\n",
       "    <tr>\n",
       "      <th>6330</th>\n",
       "      <td>739097</td>\n",
       "      <td>358-87-6367</td>\n",
       "      <td>It Smart Group</td>\n",
       "      <td>13915.304730</td>\n",
       "      <td>2021-03-26 06:07:48Z</td>\n",
       "      <td>Capital One</td>\n",
       "      <td>1.0</td>\n",
       "    </tr>\n",
       "    <tr>\n",
       "      <th>8690</th>\n",
       "      <td>739097</td>\n",
       "      <td>804-18-1012</td>\n",
       "      <td>Apple Inc.</td>\n",
       "      <td>9277.671867</td>\n",
       "      <td>2021-06-19 07:06:41Z</td>\n",
       "      <td>Capital One</td>\n",
       "      <td>2.0</td>\n",
       "    </tr>\n",
       "  </tbody>\n",
       "</table>\n",
       "</div>"
      ],
      "text/plain": [
       "      TransactionID   CardNumber        Merchant        Amount  \\\n",
       "6330         739097  358-87-6367  It Smart Group  13915.304730   \n",
       "8690         739097  804-18-1012      Apple Inc.   9277.671867   \n",
       "\n",
       "          PurchaseDatetime   CardIssuer  rank  \n",
       "6330  2021-03-26 06:07:48Z  Capital One   1.0  \n",
       "8690  2021-06-19 07:06:41Z  Capital One   2.0  "
      ]
     },
     "execution_count": 14,
     "metadata": {},
     "output_type": "execute_result"
    }
   ],
   "source": [
    "purchases[purchases['TransactionID'] == 739097]"
   ]
  },
  {
   "cell_type": "markdown",
   "id": "31f8a67a-b3ce-4639-b708-f12c678c8a74",
   "metadata": {},
   "source": [
    "Drop duplicate transaction id with the lowest purchase amount, put it into a new dataframe called `purchases_cleaned`"
   ]
  },
  {
   "cell_type": "code",
   "execution_count": 12,
   "id": "8cdfeb77-1c42-48e0-8494-479e87e58e82",
   "metadata": {},
   "outputs": [],
   "source": [
    "purchases['rank'] = purchases.groupby(['TransactionID'])['Amount'].rank('dense', ascending=False)\n",
    "purchases_cleaned = purchases[purchases['rank'] == 1]\n",
    "purchases_cleaned = purchases_cleaned.drop(columns=['rank'])"
   ]
  },
  {
   "cell_type": "code",
   "execution_count": 13,
   "id": "3220bde9-5470-4be5-b270-9ebfb57c7bfc",
   "metadata": {},
   "outputs": [
    {
     "data": {
      "text/plain": [
       "TransactionID       9958\n",
       "CardNumber          9958\n",
       "Merchant            9958\n",
       "Amount              9958\n",
       "PurchaseDatetime    9958\n",
       "CardIssuer          9958\n",
       "dtype: int64"
      ]
     },
     "execution_count": 13,
     "metadata": {},
     "output_type": "execute_result"
    }
   ],
   "source": [
    "purchases_cleaned.count()"
   ]
  },
  {
   "cell_type": "code",
   "execution_count": 15,
   "id": "c03fa774-8d3f-4763-aea5-2c14591853e9",
   "metadata": {},
   "outputs": [],
   "source": [
    "purchases_cleaned['PurchaseDatetime'] = pd.to_datetime(purchases_cleaned['PurchaseDatetime'], \n",
    "                                                      format='%Y-%m-%d %H:%M:%SZ')"
   ]
  },
  {
   "cell_type": "code",
   "execution_count": 16,
   "id": "e7b8b15e-c9b8-454f-b955-8fa0e9d1c6a4",
   "metadata": {},
   "outputs": [
    {
     "data": {
      "text/html": [
       "<div>\n",
       "<style scoped>\n",
       "    .dataframe tbody tr th:only-of-type {\n",
       "        vertical-align: middle;\n",
       "    }\n",
       "\n",
       "    .dataframe tbody tr th {\n",
       "        vertical-align: top;\n",
       "    }\n",
       "\n",
       "    .dataframe thead th {\n",
       "        text-align: right;\n",
       "    }\n",
       "</style>\n",
       "<table border=\"1\" class=\"dataframe\">\n",
       "  <thead>\n",
       "    <tr style=\"text-align: right;\">\n",
       "      <th></th>\n",
       "      <th>TransactionID</th>\n",
       "      <th>CardNumber</th>\n",
       "      <th>Merchant</th>\n",
       "      <th>Amount</th>\n",
       "      <th>PurchaseDatetime</th>\n",
       "      <th>CardIssuer</th>\n",
       "    </tr>\n",
       "  </thead>\n",
       "  <tbody>\n",
       "    <tr>\n",
       "      <th>0</th>\n",
       "      <td>751133</td>\n",
       "      <td>348-14-6088</td>\n",
       "      <td>Biolife Grup</td>\n",
       "      <td>9849.265683</td>\n",
       "      <td>2021-04-12 15:32:22</td>\n",
       "      <td>Bank of America</td>\n",
       "    </tr>\n",
       "    <tr>\n",
       "      <th>1</th>\n",
       "      <td>268445</td>\n",
       "      <td>285-83-6186</td>\n",
       "      <td>Facebook</td>\n",
       "      <td>2502.657530</td>\n",
       "      <td>2021-09-05 04:27:34</td>\n",
       "      <td>Visa</td>\n",
       "    </tr>\n",
       "    <tr>\n",
       "      <th>2</th>\n",
       "      <td>748511</td>\n",
       "      <td>811-84-3310</td>\n",
       "      <td>Comodo</td>\n",
       "      <td>6406.732352</td>\n",
       "      <td>2021-01-04 05:00:18</td>\n",
       "      <td>Chase</td>\n",
       "    </tr>\n",
       "    <tr>\n",
       "      <th>3</th>\n",
       "      <td>777162</td>\n",
       "      <td>773-80-8680</td>\n",
       "      <td>Demaco</td>\n",
       "      <td>12698.287510</td>\n",
       "      <td>2021-07-17 18:34:49</td>\n",
       "      <td>American Express</td>\n",
       "    </tr>\n",
       "    <tr>\n",
       "      <th>4</th>\n",
       "      <td>523244</td>\n",
       "      <td>171-24-1530</td>\n",
       "      <td>Erickson</td>\n",
       "      <td>13496.903670</td>\n",
       "      <td>2021-06-11 15:34:42</td>\n",
       "      <td>Chase</td>\n",
       "    </tr>\n",
       "  </tbody>\n",
       "</table>\n",
       "</div>"
      ],
      "text/plain": [
       "   TransactionID   CardNumber      Merchant        Amount    PurchaseDatetime  \\\n",
       "0         751133  348-14-6088  Biolife Grup   9849.265683 2021-04-12 15:32:22   \n",
       "1         268445  285-83-6186      Facebook   2502.657530 2021-09-05 04:27:34   \n",
       "2         748511  811-84-3310        Comodo   6406.732352 2021-01-04 05:00:18   \n",
       "3         777162  773-80-8680        Demaco  12698.287510 2021-07-17 18:34:49   \n",
       "4         523244  171-24-1530      Erickson  13496.903670 2021-06-11 15:34:42   \n",
       "\n",
       "         CardIssuer  \n",
       "0   Bank of America  \n",
       "1              Visa  \n",
       "2             Chase  \n",
       "3  American Express  \n",
       "4             Chase  "
      ]
     },
     "execution_count": 16,
     "metadata": {},
     "output_type": "execute_result"
    }
   ],
   "source": [
    "purchases_cleaned.head()"
   ]
  },
  {
   "cell_type": "code",
   "execution_count": 17,
   "id": "c22214d9-5994-416b-9253-0520dc94d33a",
   "metadata": {},
   "outputs": [
    {
     "data": {
      "text/plain": [
       "TransactionID                int64\n",
       "CardNumber                  object\n",
       "Merchant                    object\n",
       "Amount                     float64\n",
       "PurchaseDatetime    datetime64[ns]\n",
       "CardIssuer                  object\n",
       "dtype: object"
      ]
     },
     "execution_count": 17,
     "metadata": {},
     "output_type": "execute_result"
    }
   ],
   "source": [
    "purchases_cleaned.dtypes"
   ]
  },
  {
   "cell_type": "markdown",
   "id": "0f715814-a3f2-458f-aa72-a2d9e9a83c45",
   "metadata": {},
   "source": [
    "### `transfers`"
   ]
  },
  {
   "cell_type": "code",
   "execution_count": 19,
   "id": "fd5f4572-a851-4d26-aac5-4f0fda4cb531",
   "metadata": {},
   "outputs": [],
   "source": [
    "transfers = pd.read_csv('datasets/transfers.csv')"
   ]
  },
  {
   "cell_type": "code",
   "execution_count": 20,
   "id": "dfb78b8a-d381-47c2-8a74-e3c910883bd2",
   "metadata": {},
   "outputs": [
    {
     "data": {
      "text/plain": [
       "TransactionID            1000\n",
       "SenderAccountNumber      1000\n",
       "ReceiverAccountNumber    1000\n",
       "Amount                   1000\n",
       "TransferDatetime         1000\n",
       "dtype: int64"
      ]
     },
     "execution_count": 20,
     "metadata": {},
     "output_type": "execute_result"
    }
   ],
   "source": [
    "transfers.count()"
   ]
  },
  {
   "cell_type": "code",
   "execution_count": 21,
   "id": "f3c6fa9c-62e3-408e-89c3-b215b09050d0",
   "metadata": {},
   "outputs": [
    {
     "data": {
      "text/html": [
       "<div>\n",
       "<style scoped>\n",
       "    .dataframe tbody tr th:only-of-type {\n",
       "        vertical-align: middle;\n",
       "    }\n",
       "\n",
       "    .dataframe tbody tr th {\n",
       "        vertical-align: top;\n",
       "    }\n",
       "\n",
       "    .dataframe thead th {\n",
       "        text-align: right;\n",
       "    }\n",
       "</style>\n",
       "<table border=\"1\" class=\"dataframe\">\n",
       "  <thead>\n",
       "    <tr style=\"text-align: right;\">\n",
       "      <th></th>\n",
       "      <th>TransactionID</th>\n",
       "      <th>SenderAccountNumber</th>\n",
       "      <th>ReceiverAccountNumber</th>\n",
       "      <th>Amount</th>\n",
       "      <th>TransferDatetime</th>\n",
       "    </tr>\n",
       "  </thead>\n",
       "  <tbody>\n",
       "    <tr>\n",
       "      <th>0</th>\n",
       "      <td>287062</td>\n",
       "      <td>650-63-6154</td>\n",
       "      <td>430-04-5447</td>\n",
       "      <td>8584.094218</td>\n",
       "      <td>2021-02-21 16:21:49Z</td>\n",
       "    </tr>\n",
       "    <tr>\n",
       "      <th>1</th>\n",
       "      <td>377610</td>\n",
       "      <td>875-13-4278</td>\n",
       "      <td>650-63-6154</td>\n",
       "      <td>193772.025900</td>\n",
       "      <td>2021-04-21 03:09:06Z</td>\n",
       "    </tr>\n",
       "    <tr>\n",
       "      <th>2</th>\n",
       "      <td>513428</td>\n",
       "      <td>566-83-8044</td>\n",
       "      <td>875-13-4278</td>\n",
       "      <td>138147.425000</td>\n",
       "      <td>2021-05-21 22:03:26Z</td>\n",
       "    </tr>\n",
       "    <tr>\n",
       "      <th>3</th>\n",
       "      <td>571917</td>\n",
       "      <td>532-16-1750</td>\n",
       "      <td>566-83-8044</td>\n",
       "      <td>92918.537870</td>\n",
       "      <td>2021-07-22 14:35:48Z</td>\n",
       "    </tr>\n",
       "    <tr>\n",
       "      <th>4</th>\n",
       "      <td>418959</td>\n",
       "      <td>683-00-5812</td>\n",
       "      <td>532-16-1750</td>\n",
       "      <td>83355.477120</td>\n",
       "      <td>2021-02-03 07:53:22Z</td>\n",
       "    </tr>\n",
       "  </tbody>\n",
       "</table>\n",
       "</div>"
      ],
      "text/plain": [
       "   TransactionID SenderAccountNumber ReceiverAccountNumber         Amount  \\\n",
       "0         287062         650-63-6154           430-04-5447    8584.094218   \n",
       "1         377610         875-13-4278           650-63-6154  193772.025900   \n",
       "2         513428         566-83-8044           875-13-4278  138147.425000   \n",
       "3         571917         532-16-1750           566-83-8044   92918.537870   \n",
       "4         418959         683-00-5812           532-16-1750   83355.477120   \n",
       "\n",
       "       TransferDatetime  \n",
       "0  2021-02-21 16:21:49Z  \n",
       "1  2021-04-21 03:09:06Z  \n",
       "2  2021-05-21 22:03:26Z  \n",
       "3  2021-07-22 14:35:48Z  \n",
       "4  2021-02-03 07:53:22Z  "
      ]
     },
     "execution_count": 21,
     "metadata": {},
     "output_type": "execute_result"
    }
   ],
   "source": [
    "transfers.head()"
   ]
  },
  {
   "cell_type": "markdown",
   "id": "4a2a1751-167f-4230-bcaa-05c0e6817a66",
   "metadata": {},
   "source": [
    "Find out if there is duplicate transfer ids"
   ]
  },
  {
   "cell_type": "code",
   "execution_count": 22,
   "id": "6b4b04b0-9dd8-442c-90c8-e5547a4de130",
   "metadata": {},
   "outputs": [
    {
     "data": {
      "text/plain": [
       "TransactionID\n",
       "835422    2\n",
       "100710    1\n",
       "688584    1\n",
       "676257    1\n",
       "678237    1\n",
       "         ..\n",
       "388598    1\n",
       "388940    1\n",
       "389629    1\n",
       "391510    1\n",
       "997278    1\n",
       "Name: TransactionID, Length: 999, dtype: int64"
      ]
     },
     "execution_count": 22,
     "metadata": {},
     "output_type": "execute_result"
    }
   ],
   "source": [
    "transfers.groupby(['TransactionID'])['TransactionID'].size().sort_values(ascending=False)"
   ]
  },
  {
   "cell_type": "code",
   "execution_count": 23,
   "id": "05ddd788-3a96-42fd-b146-5d3073e206c8",
   "metadata": {},
   "outputs": [
    {
     "data": {
      "text/html": [
       "<div>\n",
       "<style scoped>\n",
       "    .dataframe tbody tr th:only-of-type {\n",
       "        vertical-align: middle;\n",
       "    }\n",
       "\n",
       "    .dataframe tbody tr th {\n",
       "        vertical-align: top;\n",
       "    }\n",
       "\n",
       "    .dataframe thead th {\n",
       "        text-align: right;\n",
       "    }\n",
       "</style>\n",
       "<table border=\"1\" class=\"dataframe\">\n",
       "  <thead>\n",
       "    <tr style=\"text-align: right;\">\n",
       "      <th></th>\n",
       "      <th>TransactionID</th>\n",
       "      <th>SenderAccountNumber</th>\n",
       "      <th>ReceiverAccountNumber</th>\n",
       "      <th>Amount</th>\n",
       "      <th>TransferDatetime</th>\n",
       "    </tr>\n",
       "  </thead>\n",
       "  <tbody>\n",
       "    <tr>\n",
       "      <th>247</th>\n",
       "      <td>835422</td>\n",
       "      <td>241-68-2480</td>\n",
       "      <td>560-48-1425</td>\n",
       "      <td>166905.3373</td>\n",
       "      <td>2021-07-20 07:31:25Z</td>\n",
       "    </tr>\n",
       "    <tr>\n",
       "      <th>277</th>\n",
       "      <td>835422</td>\n",
       "      <td>513-53-4378</td>\n",
       "      <td>256-10-2086</td>\n",
       "      <td>21815.7999</td>\n",
       "      <td>2021-05-22 14:40:47Z</td>\n",
       "    </tr>\n",
       "  </tbody>\n",
       "</table>\n",
       "</div>"
      ],
      "text/plain": [
       "     TransactionID SenderAccountNumber ReceiverAccountNumber       Amount  \\\n",
       "247         835422         241-68-2480           560-48-1425  166905.3373   \n",
       "277         835422         513-53-4378           256-10-2086   21815.7999   \n",
       "\n",
       "         TransferDatetime  \n",
       "247  2021-07-20 07:31:25Z  \n",
       "277  2021-05-22 14:40:47Z  "
      ]
     },
     "execution_count": 23,
     "metadata": {},
     "output_type": "execute_result"
    }
   ],
   "source": [
    "transfers[transfers['TransactionID'] == 835422]"
   ]
  },
  {
   "cell_type": "markdown",
   "id": "7e5595d4-99ef-49be-b96e-6e3ecfba22db",
   "metadata": {},
   "source": [
    "Remove the duplicate transfer id with the lowest transaction amount and store it into a new dataframe `transfers_cleaned`"
   ]
  },
  {
   "cell_type": "code",
   "execution_count": 24,
   "id": "ae20bc7d-a110-45ae-8373-1a8366ca196d",
   "metadata": {},
   "outputs": [
    {
     "data": {
      "text/html": [
       "<div>\n",
       "<style scoped>\n",
       "    .dataframe tbody tr th:only-of-type {\n",
       "        vertical-align: middle;\n",
       "    }\n",
       "\n",
       "    .dataframe tbody tr th {\n",
       "        vertical-align: top;\n",
       "    }\n",
       "\n",
       "    .dataframe thead th {\n",
       "        text-align: right;\n",
       "    }\n",
       "</style>\n",
       "<table border=\"1\" class=\"dataframe\">\n",
       "  <thead>\n",
       "    <tr style=\"text-align: right;\">\n",
       "      <th></th>\n",
       "      <th>TransactionID</th>\n",
       "      <th>SenderAccountNumber</th>\n",
       "      <th>ReceiverAccountNumber</th>\n",
       "      <th>Amount</th>\n",
       "      <th>TransferDatetime</th>\n",
       "    </tr>\n",
       "  </thead>\n",
       "  <tbody>\n",
       "    <tr>\n",
       "      <th>247</th>\n",
       "      <td>835422</td>\n",
       "      <td>241-68-2480</td>\n",
       "      <td>560-48-1425</td>\n",
       "      <td>166905.3373</td>\n",
       "      <td>2021-07-20 07:31:25Z</td>\n",
       "    </tr>\n",
       "  </tbody>\n",
       "</table>\n",
       "</div>"
      ],
      "text/plain": [
       "     TransactionID SenderAccountNumber ReceiverAccountNumber       Amount  \\\n",
       "247         835422         241-68-2480           560-48-1425  166905.3373   \n",
       "\n",
       "         TransferDatetime  \n",
       "247  2021-07-20 07:31:25Z  "
      ]
     },
     "execution_count": 24,
     "metadata": {},
     "output_type": "execute_result"
    }
   ],
   "source": [
    "transfers_cleaned = transfers.drop(277)\n",
    "\n",
    "transfers_cleaned[transfers_cleaned['TransactionID'] == 835422]"
   ]
  },
  {
   "cell_type": "code",
   "execution_count": 25,
   "id": "37cc7f0a-0dfa-483d-a0d3-985caa73f064",
   "metadata": {},
   "outputs": [
    {
     "data": {
      "text/plain": [
       "TransactionID            999\n",
       "SenderAccountNumber      999\n",
       "ReceiverAccountNumber    999\n",
       "Amount                   999\n",
       "TransferDatetime         999\n",
       "dtype: int64"
      ]
     },
     "execution_count": 25,
     "metadata": {},
     "output_type": "execute_result"
    }
   ],
   "source": [
    "transfers_cleaned.count()"
   ]
  },
  {
   "cell_type": "code",
   "execution_count": 26,
   "id": "f82d2db2-f21a-406a-a1b4-726c32f0a36f",
   "metadata": {},
   "outputs": [],
   "source": [
    "transfers_cleaned['TransferDatetime'] = pd.to_datetime(transfers_cleaned['TransferDatetime'],\n",
    "                                                      format='%Y-%m-%d %H:%M:%SZ')"
   ]
  },
  {
   "cell_type": "code",
   "execution_count": 27,
   "id": "b437f27c-dfbe-44eb-9cc6-1daeb01626c3",
   "metadata": {},
   "outputs": [
    {
     "data": {
      "text/html": [
       "<div>\n",
       "<style scoped>\n",
       "    .dataframe tbody tr th:only-of-type {\n",
       "        vertical-align: middle;\n",
       "    }\n",
       "\n",
       "    .dataframe tbody tr th {\n",
       "        vertical-align: top;\n",
       "    }\n",
       "\n",
       "    .dataframe thead th {\n",
       "        text-align: right;\n",
       "    }\n",
       "</style>\n",
       "<table border=\"1\" class=\"dataframe\">\n",
       "  <thead>\n",
       "    <tr style=\"text-align: right;\">\n",
       "      <th></th>\n",
       "      <th>TransactionID</th>\n",
       "      <th>SenderAccountNumber</th>\n",
       "      <th>ReceiverAccountNumber</th>\n",
       "      <th>Amount</th>\n",
       "      <th>TransferDatetime</th>\n",
       "    </tr>\n",
       "  </thead>\n",
       "  <tbody>\n",
       "    <tr>\n",
       "      <th>0</th>\n",
       "      <td>287062</td>\n",
       "      <td>650-63-6154</td>\n",
       "      <td>430-04-5447</td>\n",
       "      <td>8584.094218</td>\n",
       "      <td>2021-02-21 16:21:49</td>\n",
       "    </tr>\n",
       "    <tr>\n",
       "      <th>1</th>\n",
       "      <td>377610</td>\n",
       "      <td>875-13-4278</td>\n",
       "      <td>650-63-6154</td>\n",
       "      <td>193772.025900</td>\n",
       "      <td>2021-04-21 03:09:06</td>\n",
       "    </tr>\n",
       "    <tr>\n",
       "      <th>2</th>\n",
       "      <td>513428</td>\n",
       "      <td>566-83-8044</td>\n",
       "      <td>875-13-4278</td>\n",
       "      <td>138147.425000</td>\n",
       "      <td>2021-05-21 22:03:26</td>\n",
       "    </tr>\n",
       "    <tr>\n",
       "      <th>3</th>\n",
       "      <td>571917</td>\n",
       "      <td>532-16-1750</td>\n",
       "      <td>566-83-8044</td>\n",
       "      <td>92918.537870</td>\n",
       "      <td>2021-07-22 14:35:48</td>\n",
       "    </tr>\n",
       "    <tr>\n",
       "      <th>4</th>\n",
       "      <td>418959</td>\n",
       "      <td>683-00-5812</td>\n",
       "      <td>532-16-1750</td>\n",
       "      <td>83355.477120</td>\n",
       "      <td>2021-02-03 07:53:22</td>\n",
       "    </tr>\n",
       "  </tbody>\n",
       "</table>\n",
       "</div>"
      ],
      "text/plain": [
       "   TransactionID SenderAccountNumber ReceiverAccountNumber         Amount  \\\n",
       "0         287062         650-63-6154           430-04-5447    8584.094218   \n",
       "1         377610         875-13-4278           650-63-6154  193772.025900   \n",
       "2         513428         566-83-8044           875-13-4278  138147.425000   \n",
       "3         571917         532-16-1750           566-83-8044   92918.537870   \n",
       "4         418959         683-00-5812           532-16-1750   83355.477120   \n",
       "\n",
       "     TransferDatetime  \n",
       "0 2021-02-21 16:21:49  \n",
       "1 2021-04-21 03:09:06  \n",
       "2 2021-05-21 22:03:26  \n",
       "3 2021-07-22 14:35:48  \n",
       "4 2021-02-03 07:53:22  "
      ]
     },
     "execution_count": 27,
     "metadata": {},
     "output_type": "execute_result"
    }
   ],
   "source": [
    "transfers_cleaned.head()"
   ]
  },
  {
   "cell_type": "code",
   "execution_count": 28,
   "id": "12ee7515-74fb-406d-90b0-2033392a32a8",
   "metadata": {},
   "outputs": [
    {
     "data": {
      "text/plain": [
       "TransactionID                     int64\n",
       "SenderAccountNumber              object\n",
       "ReceiverAccountNumber            object\n",
       "Amount                          float64\n",
       "TransferDatetime         datetime64[ns]\n",
       "dtype: object"
      ]
     },
     "execution_count": 28,
     "metadata": {},
     "output_type": "execute_result"
    }
   ],
   "source": [
    "transfers_cleaned.dtypes"
   ]
  },
  {
   "cell_type": "markdown",
   "id": "a0d61f3d-3849-4acb-814e-e878a6727967",
   "metadata": {},
   "source": [
    "## Data Model"
   ]
  },
  {
   "cell_type": "markdown",
   "id": "79db17ae-5d75-4120-b846-993f4b5a1586",
   "metadata": {},
   "source": [
    "![title](./images/Bank_transaction_purchase.png)"
   ]
  },
  {
   "cell_type": "markdown",
   "id": "b8456b19-86a5-476c-b2fc-8ccf4639fc3e",
   "metadata": {},
   "source": [
    "## Load data into Neo4j"
   ]
  },
  {
   "cell_type": "markdown",
   "id": "f2aae034-6951-4a4e-b0f7-b8764cd99eb3",
   "metadata": {},
   "source": [
    "Update the following variables based on your configuration."
   ]
  },
  {
   "cell_type": "code",
   "execution_count": 35,
   "id": "3850e075-28cb-4d3c-a512-a92deafccd78",
   "metadata": {},
   "outputs": [],
   "source": [
    "uri='neo4j://localhost:7687'\n",
    "username='neo4j'\n",
    "password='pelesiran'\n",
    "db='transaction2'"
   ]
  },
  {
   "cell_type": "code",
   "execution_count": 36,
   "id": "9c4f6868-518b-43d2-8309-e9a5f3647c20",
   "metadata": {},
   "outputs": [],
   "source": [
    "from neo4j import GraphDatabase\n",
    "\n",
    "driver = GraphDatabase.driver(uri=uri, auth=(username,password))"
   ]
  },
  {
   "cell_type": "code",
   "execution_count": 32,
   "id": "0b7d68df-1f35-43d0-8585-4edec71840c0",
   "metadata": {},
   "outputs": [],
   "source": [
    "class Neo4jConnection:\n",
    "    def __init__(self, uri, user, password):\n",
    "        try:\n",
    "            self.__driver = GraphDatabase.driver(uri, auth=(user, password))\n",
    "            print('Driver is successfully created.')\n",
    "        except Exception as e:\n",
    "            print(f'Failed to create the driver: {e}')\n",
    "        \n",
    "    def close(self):\n",
    "        self.__driver.close()\n",
    "        \n",
    "    def query(self, query, parameters=None, db=None):\n",
    "        session = None\n",
    "        response = None\n",
    "        try:\n",
    "            session = self.__driver.session(database=db) if db is not None else self.__driver.session()\n",
    "            response = list(session.run(query,parameters=parameters))\n",
    "        except Exception as e:\n",
    "            print(f'Query failed: {e}')\n",
    "        finally:\n",
    "            if session is not None:\n",
    "                session.close()\n",
    "        return response\n",
    "        "
   ]
  },
  {
   "cell_type": "markdown",
   "id": "254727fa-999e-4254-9f01-c8465f8b2eab",
   "metadata": {},
   "source": [
    "Create connection."
   ]
  },
  {
   "cell_type": "code",
   "execution_count": 37,
   "id": "25f7caf9-0f13-4b58-9cb2-7ac52727608a",
   "metadata": {},
   "outputs": [
    {
     "name": "stdout",
     "output_type": "stream",
     "text": [
      "Driver is successfully created.\n"
     ]
    }
   ],
   "source": [
    "conn = Neo4jConnection(uri, username, password)"
   ]
  },
  {
   "cell_type": "markdown",
   "id": "bd61d65a-209b-419d-8a84-dceda95ea78e",
   "metadata": {},
   "source": [
    "Create the database if not exist"
   ]
  },
  {
   "cell_type": "code",
   "execution_count": 38,
   "id": "16a7ef6f-86a5-4a07-aeec-24bef3738a63",
   "metadata": {},
   "outputs": [
    {
     "data": {
      "text/plain": [
       "[]"
      ]
     },
     "execution_count": 38,
     "metadata": {},
     "output_type": "execute_result"
    }
   ],
   "source": [
    "conn.query(f'CREATE DATABASE {db} IF NOT EXISTS')"
   ]
  },
  {
   "cell_type": "markdown",
   "id": "ddd4750a-7b6f-4024-af56-db886ff0a629",
   "metadata": {},
   "source": [
    "Create constraints and indexes"
   ]
  },
  {
   "cell_type": "code",
   "execution_count": 39,
   "id": "220368d4-0549-472f-8b9f-32aa1467922f",
   "metadata": {},
   "outputs": [
    {
     "data": {
      "text/plain": [
       "[]"
      ]
     },
     "execution_count": 39,
     "metadata": {},
     "output_type": "execute_result"
    }
   ],
   "source": [
    "conn.query('CREATE CONSTRAINT accounts IF NOT EXISTS FOR (a:Account) REQUIRE a.account_number IS UNIQUE',db=db)\n",
    "conn.query('CREATE CONSTRAINT customers IF NOT EXISTS FOR (c:Customer) REQUIRE c.cif IS UNIQUE',db=db)\n",
    "conn.query('CREATE CONSTRAINT accounts IF NOT EXISTS FOR (acc:Account) REQUIRE acc.cif IS UNIQUE',db=db)\n",
    "conn.query('CREATE CONSTRAINT credit_cards IF NOT EXISTS FOR (cc:Credit_card) REQUIRE cc.card_number IS UNIQUE',db=db)\n",
    "conn.query('CREATE CONSTRAINT merchants IF NOT EXISTS FOR (m:Merchant) REQUIRE m.name IS UNIQUE',db=db)\n",
    "conn.query('CREATE CONSTRAINT countries IF NOT EXISTS FOR (co:Country) REQUIRE co.name IS UNIQUE',db=db)\n",
    "conn.query('CREATE CONSTRAINT addresses IF NOT EXISTS FOR (a:Address) REQUIRE a.address_line IS UNIQUE',db=db)\n",
    "conn.query('CREATE CONSTRAINT transfers IF NOT EXISTS FOR (t:Transfer) REQUIRE t.id IS UNIQUE',db=db)\n",
    "conn.query('CREATE CONSTRAINT purchases IF NOT EXISTS FOR (p:Purchase) REQUIRE p.id IS UNIQUE',db=db)\n",
    "conn.query('CREATE INDEX transfer_datetime IF NOT EXISTS FOR (t:Transfer) ON (t.datetime)',db=db)\n",
    "conn.query('CREATE INDEX purchase_datetime IF NOT EXISTS FOR (p:Purchase) ON (p.datetime)',db=db)"
   ]
  },
  {
   "cell_type": "markdown",
   "id": "99e5e3b6-4b43-420f-9a91-c4e2e6c9b7e0",
   "metadata": {},
   "source": [
    "### Insert country nodes"
   ]
  },
  {
   "cell_type": "code",
   "execution_count": 40,
   "id": "2d6cdb4d-1ca2-49f5-86a2-803fc68e7e91",
   "metadata": {},
   "outputs": [
    {
     "data": {
      "text/plain": [
       "[<Record total=78>]"
      ]
     },
     "execution_count": 40,
     "metadata": {},
     "output_type": "execute_result"
    }
   ],
   "source": [
    "query = '''\n",
    "UNWIND $rows AS row\n",
    "MERGE(co:Country {name:row})\n",
    "\n",
    "RETURN COUNT(*) AS total\n",
    "'''\n",
    "\n",
    "conn.query(query, parameters={'rows':customers['Country'].unique()}, db=db)"
   ]
  },
  {
   "cell_type": "markdown",
   "id": "5d051086-c467-48d6-8c48-793a38d6f89a",
   "metadata": {},
   "source": [
    "### Insert `(Customer)-[:LIVES_AT]->(Address)-[:LOCATED_IN]->(Country)`"
   ]
  },
  {
   "cell_type": "code",
   "execution_count": 41,
   "id": "eaff48c0-107a-4110-8def-d9021baac07d",
   "metadata": {},
   "outputs": [
    {
     "data": {
      "text/plain": [
       "[<Record total=100>]"
      ]
     },
     "execution_count": 41,
     "metadata": {},
     "output_type": "execute_result"
    }
   ],
   "source": [
    "query = '''\n",
    "UNWIND $rows AS row\n",
    "MATCH(co:Country {name:row.Country})\n",
    "MERGE (c:Customer {cif:row.CIF, age:row.Age, email_address:row.EmailAddress, first_name:row.FirstName, \n",
    "                  last_name:row.LastName, phone_number:row.PhoneNumber, gender:row.Gender, \n",
    "    job_title:row.JobTitle})\n",
    "MERGE (a:Address {address_line:row.Address})\n",
    "MERGE(c)-[:LIVES_AT]->(a)-[:LOCATED_IN]->(co)\n",
    "\n",
    "RETURN count(*) AS total\n",
    "'''\n",
    "\n",
    "conn.query(query, parameters={'rows':customers.to_dict('records')},db=db)"
   ]
  },
  {
   "cell_type": "markdown",
   "id": "c1ed36cf-515d-4ee5-b92b-437d35f74bc6",
   "metadata": {},
   "source": [
    "### Insert merchant nodes"
   ]
  },
  {
   "cell_type": "code",
   "execution_count": 42,
   "id": "d8c12b4b-a64f-48ee-98d1-df2bc99d7dbb",
   "metadata": {},
   "outputs": [
    {
     "data": {
      "text/plain": [
       "[<Record total=30>]"
      ]
     },
     "execution_count": 42,
     "metadata": {},
     "output_type": "execute_result"
    }
   ],
   "source": [
    "## Create merchant nodes\n",
    "\n",
    "query = '''\n",
    "UNWIND $rows AS row\n",
    "MERGE(m:Merchant {name:row})\n",
    "\n",
    "RETURN COUNT(*) AS total\n",
    "'''\n",
    "\n",
    "conn.query(query, parameters={'rows':purchases['Merchant'].unique()},db=db)"
   ]
  },
  {
   "cell_type": "markdown",
   "id": "7d9dd3e8-a0bf-48da-bdd7-fee2c1b1a0ac",
   "metadata": {},
   "source": [
    "### Create `(Customer)-[:HAS]->(Credit_card)`"
   ]
  },
  {
   "cell_type": "code",
   "execution_count": 43,
   "id": "cc80db7f-e3ed-4b43-86c6-4587f9da300f",
   "metadata": {},
   "outputs": [
    {
     "data": {
      "text/plain": [
       "[<Record total=100>]"
      ]
     },
     "execution_count": 43,
     "metadata": {},
     "output_type": "execute_result"
    }
   ],
   "source": [
    "## Create (customer)-[:HAS]->(credit_card)\n",
    "\n",
    "query = '''\n",
    "UNWIND $rows AS row\n",
    "MATCH(c:Customer {cif:row.CIF})\n",
    "MERGE(c)-[:HAS]->(cc:Credit_card {card_number:row.CardNumber})\n",
    "\n",
    "RETURN COUNT(*) AS total\n",
    "'''\n",
    "\n",
    "conn.query(query, parameters={'rows':customers.to_dict('records')}, db=db)"
   ]
  },
  {
   "cell_type": "markdown",
   "id": "62e99b2b-d6ba-484c-bbf1-95f3603d4960",
   "metadata": {},
   "source": [
    "### Create `(Credit_card)-[:BUY]->(Purchase)<-[:SELL]-(merchant)`"
   ]
  },
  {
   "cell_type": "code",
   "execution_count": 44,
   "id": "96f52520-b8f1-4789-8a2c-597518cc5998",
   "metadata": {},
   "outputs": [
    {
     "data": {
      "text/plain": [
       "[<Record total=9958>]"
      ]
     },
     "execution_count": 44,
     "metadata": {},
     "output_type": "execute_result"
    }
   ],
   "source": [
    "## Create (credit_card)-[:PURCHASED_FROM]->(merchant)\n",
    "\n",
    "query = '''\n",
    "UNWIND $rows AS row\n",
    "MATCH(cc:Credit_card {card_number:row.CardNumber}),(m:Merchant {name:row.Merchant})\n",
    "MERGE(p:Purchase {id:row.TransactionID,amount:row.Amount,datetime:row.PurchaseDatetime})\n",
    "MERGE(cc)-[:BUY]->(p)<-[:SELL]-(m) \n",
    "    \n",
    "RETURN COUNT(*) AS total\n",
    "'''\n",
    "\n",
    "conn.query(query, parameters={'rows':purchases_cleaned.to_dict('records')},db=db)"
   ]
  },
  {
   "cell_type": "markdown",
   "id": "ad75ebbf-8bb7-4820-b896-9582fb467f90",
   "metadata": {},
   "source": [
    "### add `issuer` property to `Credit_card` node"
   ]
  },
  {
   "cell_type": "code",
   "execution_count": 45,
   "id": "bfea9501-9d5f-4e59-be35-7c7a1171a9cf",
   "metadata": {},
   "outputs": [
    {
     "data": {
      "text/plain": [
       "[<Record total=9958>]"
      ]
     },
     "execution_count": 45,
     "metadata": {},
     "output_type": "execute_result"
    }
   ],
   "source": [
    "query = '''\n",
    "UNWIND $rows AS row\n",
    "MATCH(cc:Credit_card {card_number:row.CardNumber})\n",
    "SET cc.issuer=row.CardIssuer\n",
    "\n",
    "RETURN COUNT(*) AS total\n",
    "'''\n",
    "\n",
    "conn.query(query, parameters={'rows':purchases_cleaned.to_dict('records')},db=db)"
   ]
  },
  {
   "cell_type": "markdown",
   "id": "b7a6017e-3ac3-486d-a52a-20ba7b4420d0",
   "metadata": {},
   "source": [
    "### Create `(customer)-[:HAS]->(account)`"
   ]
  },
  {
   "cell_type": "code",
   "execution_count": 46,
   "id": "09252dbe-487a-42a7-9260-9fe9f12f8843",
   "metadata": {},
   "outputs": [
    {
     "data": {
      "text/plain": [
       "[<Record total=100>]"
      ]
     },
     "execution_count": 46,
     "metadata": {},
     "output_type": "execute_result"
    }
   ],
   "source": [
    "## Create (customer)-[:HAS]->(account)\n",
    "\n",
    "query = '''\n",
    "UNWIND $rows AS row\n",
    "MATCH(c:Customer {cif:row.CIF})\n",
    "MERGE(c)-[:HAS]->(a:Account {account_number:row.AccountNumber})\n",
    "\n",
    "RETURN COUNT(*) AS total\n",
    "'''\n",
    "\n",
    "conn.query(query, parameters={'rows':customers.to_dict('records')},db=db)"
   ]
  },
  {
   "cell_type": "markdown",
   "id": "8d1b324b-1d7f-4f05-a305-598d512034ab",
   "metadata": {},
   "source": [
    "### Create `(account)-[:TRANSFER_IN]->(Transfer)<-[:TRANSFER_OUT]-(Account)`"
   ]
  },
  {
   "cell_type": "code",
   "execution_count": 47,
   "id": "bf0a2375-a3f6-4f90-9845-acc05c05d650",
   "metadata": {},
   "outputs": [
    {
     "data": {
      "text/plain": [
       "[<Record total=999>]"
      ]
     },
     "execution_count": 47,
     "metadata": {},
     "output_type": "execute_result"
    }
   ],
   "source": [
    "query = '''\n",
    "UNWIND $rows AS row\n",
    "MATCH(a:Account {account_number:row.SenderAccountNumber}),(b:Account {account_number:row.ReceiverAccountNumber})\n",
    "MERGE(t:Transfer {id:row.TransactionID,amount:row.Amount,datetime:row.TransferDatetime})\n",
    "MERGE(a)-[:TRANSFER_IN]->(t)<-[:TRANSFER_OUT]-(b)\n",
    "\n",
    "RETURN COUNT(*) AS total\n",
    "'''\n",
    "\n",
    "conn.query(query, parameters={'rows':transfers_cleaned.to_dict('records')},db=db)"
   ]
  },
  {
   "cell_type": "markdown",
   "id": "89796c4a-ed5f-4d5e-abae-e68a90d7f0aa",
   "metadata": {},
   "source": [
    "Done"
   ]
  }
 ],
 "metadata": {
  "kernelspec": {
   "display_name": "Python 3 (ipykernel)",
   "language": "python",
   "name": "python3"
  },
  "language_info": {
   "codemirror_mode": {
    "name": "ipython",
    "version": 3
   },
   "file_extension": ".py",
   "mimetype": "text/x-python",
   "name": "python",
   "nbconvert_exporter": "python",
   "pygments_lexer": "ipython3",
   "version": "3.10.9"
  }
 },
 "nbformat": 4,
 "nbformat_minor": 5
}
