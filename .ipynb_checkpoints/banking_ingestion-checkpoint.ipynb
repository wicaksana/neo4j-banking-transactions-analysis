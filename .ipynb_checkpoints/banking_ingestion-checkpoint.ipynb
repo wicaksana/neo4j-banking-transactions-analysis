{
 "cells": [
  {
   "cell_type": "code",
   "execution_count": null,
   "id": "fbeed82e-38e5-4cab-ba19-7eaa4a183012",
   "metadata": {},
   "outputs": [],
   "source": [
    "!pip install neo4j"
   ]
  },
  {
   "cell_type": "markdown",
   "id": "86a9c656-e7f9-46f3-a438-f06d01b15eae",
   "metadata": {},
   "source": [
    "## Datasets"
   ]
  },
  {
   "cell_type": "code",
   "execution_count": null,
   "id": "ed47da76-5baf-4d94-9d88-e92b934ba070",
   "metadata": {},
   "outputs": [],
   "source": [
    "import pandas as pd"
   ]
  },
  {
   "cell_type": "markdown",
   "id": "8cc9836e-6ab1-407d-b81a-d9c0d9e724fa",
   "metadata": {},
   "source": [
    "### `customers`"
   ]
  },
  {
   "cell_type": "code",
   "execution_count": null,
   "id": "07aba00d-188b-42cd-a8b0-481efc567b00",
   "metadata": {},
   "outputs": [],
   "source": [
    "customers = pd.read_csv('datasets/customers.csv')"
   ]
  },
  {
   "cell_type": "code",
   "execution_count": null,
   "id": "bbb59d33-34e5-4237-b67e-1bca05dd605c",
   "metadata": {},
   "outputs": [],
   "source": [
    "customers.count()"
   ]
  },
  {
   "cell_type": "code",
   "execution_count": null,
   "id": "27560bed-27b1-4c48-acc2-40bff790a190",
   "metadata": {},
   "outputs": [],
   "source": [
    "customers.head()"
   ]
  },
  {
   "cell_type": "code",
   "execution_count": null,
   "id": "ab0f9eb3-6c11-448b-825c-14ea97c8cd49",
   "metadata": {},
   "outputs": [],
   "source": [
    "customers.dtypes"
   ]
  },
  {
   "cell_type": "markdown",
   "id": "154a3a0e-785a-4942-9e97-6f2da755e53f",
   "metadata": {},
   "source": [
    "### `purchases`"
   ]
  },
  {
   "cell_type": "code",
   "execution_count": null,
   "id": "d470d954-b785-45ca-a253-dd27b96d1388",
   "metadata": {},
   "outputs": [],
   "source": [
    "purchases = pd.read_csv('datasets/purchases.csv')"
   ]
  },
  {
   "cell_type": "code",
   "execution_count": null,
   "id": "e1f8f26e-f253-4bbb-b6db-3d5e076338a7",
   "metadata": {},
   "outputs": [],
   "source": [
    "purchases.count()"
   ]
  },
  {
   "cell_type": "code",
   "execution_count": null,
   "id": "56915fef-391f-4238-a4cc-dc715244e236",
   "metadata": {},
   "outputs": [],
   "source": [
    "purchases.head()"
   ]
  },
  {
   "cell_type": "markdown",
   "id": "2a5b8420-5dbc-40d6-ad5d-633a958ad398",
   "metadata": {},
   "source": [
    "Find out if there is duplicate transaction id"
   ]
  },
  {
   "cell_type": "code",
   "execution_count": null,
   "id": "e0e2ed2b-198f-435e-99f0-3029a7d573e2",
   "metadata": {},
   "outputs": [],
   "source": [
    "purchases.groupby(['TransactionID'])['TransactionID'].size().sort_values(ascending=False)"
   ]
  },
  {
   "cell_type": "markdown",
   "id": "36f7643a-2d13-4788-a3ea-dbb63294d5a9",
   "metadata": {},
   "source": [
    "See the sample of duplicate tx ids"
   ]
  },
  {
   "cell_type": "code",
   "execution_count": null,
   "id": "cb79b053-9af6-4999-ad85-db99af2fb558",
   "metadata": {},
   "outputs": [],
   "source": [
    "purchases[purchases['TransactionID'] == 739097]"
   ]
  },
  {
   "cell_type": "markdown",
   "id": "31f8a67a-b3ce-4639-b708-f12c678c8a74",
   "metadata": {},
   "source": [
    "Drop duplicate transaction id with the lowest purchase amount, put it into a new dataframe called `purchases_cleaned`"
   ]
  },
  {
   "cell_type": "code",
   "execution_count": null,
   "id": "8cdfeb77-1c42-48e0-8494-479e87e58e82",
   "metadata": {},
   "outputs": [],
   "source": [
    "purchases['rank'] = purchases.groupby(['TransactionID'])['Amount'].rank('dense', ascending=False)\n",
    "purchases_cleaned = purchases[purchases['rank'] == 1]\n",
    "purchases_cleaned = purchases_cleaned.drop(columns=['rank'])"
   ]
  },
  {
   "cell_type": "code",
   "execution_count": null,
   "id": "3220bde9-5470-4be5-b270-9ebfb57c7bfc",
   "metadata": {},
   "outputs": [],
   "source": [
    "purchases_cleaned.count()"
   ]
  },
  {
   "cell_type": "code",
   "execution_count": null,
   "id": "c03fa774-8d3f-4763-aea5-2c14591853e9",
   "metadata": {},
   "outputs": [],
   "source": [
    "purchases_cleaned['PurchaseDatetime'] = pd.to_datetime(purchases_cleaned['PurchaseDatetime'], \n",
    "                                                      format='%Y-%m-%d %H:%M:%SZ')"
   ]
  },
  {
   "cell_type": "code",
   "execution_count": null,
   "id": "e7b8b15e-c9b8-454f-b955-8fa0e9d1c6a4",
   "metadata": {},
   "outputs": [],
   "source": [
    "purchases_cleaned.head()"
   ]
  },
  {
   "cell_type": "code",
   "execution_count": null,
   "id": "c22214d9-5994-416b-9253-0520dc94d33a",
   "metadata": {},
   "outputs": [],
   "source": [
    "purchases_cleaned.dtypes"
   ]
  },
  {
   "cell_type": "markdown",
   "id": "0f715814-a3f2-458f-aa72-a2d9e9a83c45",
   "metadata": {},
   "source": [
    "### `transfers`"
   ]
  },
  {
   "cell_type": "code",
   "execution_count": null,
   "id": "fd5f4572-a851-4d26-aac5-4f0fda4cb531",
   "metadata": {},
   "outputs": [],
   "source": [
    "transfers = pd.read_csv('datasets/transfers.csv')"
   ]
  },
  {
   "cell_type": "code",
   "execution_count": null,
   "id": "dfb78b8a-d381-47c2-8a74-e3c910883bd2",
   "metadata": {},
   "outputs": [],
   "source": [
    "transfers.count()"
   ]
  },
  {
   "cell_type": "code",
   "execution_count": null,
   "id": "f3c6fa9c-62e3-408e-89c3-b215b09050d0",
   "metadata": {},
   "outputs": [],
   "source": [
    "transfers.head()"
   ]
  },
  {
   "cell_type": "markdown",
   "id": "4a2a1751-167f-4230-bcaa-05c0e6817a66",
   "metadata": {},
   "source": [
    "Find out if there is duplicate transfer ids"
   ]
  },
  {
   "cell_type": "code",
   "execution_count": null,
   "id": "6b4b04b0-9dd8-442c-90c8-e5547a4de130",
   "metadata": {},
   "outputs": [],
   "source": [
    "transfers.groupby(['TransactionID'])['TransactionID'].size().sort_values(ascending=False)"
   ]
  },
  {
   "cell_type": "code",
   "execution_count": null,
   "id": "05ddd788-3a96-42fd-b146-5d3073e206c8",
   "metadata": {},
   "outputs": [],
   "source": [
    "transfers[transfers['TransactionID'] == 835422]"
   ]
  },
  {
   "cell_type": "markdown",
   "id": "7e5595d4-99ef-49be-b96e-6e3ecfba22db",
   "metadata": {},
   "source": [
    "Remove the duplicate transfer id with the lowest transaction amount and store it into a new dataframe `transfers_cleaned`"
   ]
  },
  {
   "cell_type": "code",
   "execution_count": null,
   "id": "ae20bc7d-a110-45ae-8373-1a8366ca196d",
   "metadata": {},
   "outputs": [],
   "source": [
    "transfers_cleaned = transfers.drop(277)\n",
    "\n",
    "transfers_cleaned[transfers_cleaned['TransactionID'] == 835422]"
   ]
  },
  {
   "cell_type": "code",
   "execution_count": null,
   "id": "37cc7f0a-0dfa-483d-a0d3-985caa73f064",
   "metadata": {},
   "outputs": [],
   "source": [
    "transfers_cleaned.count()"
   ]
  },
  {
   "cell_type": "code",
   "execution_count": null,
   "id": "f82d2db2-f21a-406a-a1b4-726c32f0a36f",
   "metadata": {},
   "outputs": [],
   "source": [
    "transfers_cleaned['TransferDatetime'] = pd.to_datetime(transfers_cleaned['TransferDatetime'],\n",
    "                                                      format='%Y-%m-%d %H:%M:%SZ')"
   ]
  },
  {
   "cell_type": "code",
   "execution_count": null,
   "id": "b437f27c-dfbe-44eb-9cc6-1daeb01626c3",
   "metadata": {},
   "outputs": [],
   "source": [
    "transfers_cleaned.head()"
   ]
  },
  {
   "cell_type": "code",
   "execution_count": null,
   "id": "12ee7515-74fb-406d-90b0-2033392a32a8",
   "metadata": {},
   "outputs": [],
   "source": [
    "transfers_cleaned.dtypes"
   ]
  },
  {
   "cell_type": "markdown",
   "id": "a0d61f3d-3849-4acb-814e-e878a6727967",
   "metadata": {},
   "source": [
    "## Data Model"
   ]
  },
  {
   "cell_type": "markdown",
   "id": "79db17ae-5d75-4120-b846-993f4b5a1586",
   "metadata": {},
   "source": [
    "![title](./images/Bank_transaction_purchase.png)"
   ]
  },
  {
   "cell_type": "markdown",
   "id": "b8456b19-86a5-476c-b2fc-8ccf4639fc3e",
   "metadata": {},
   "source": [
    "## Load data into Neo4j"
   ]
  },
  {
   "cell_type": "markdown",
   "id": "f2aae034-6951-4a4e-b0f7-b8764cd99eb3",
   "metadata": {},
   "source": [
    "Update the following variables based on your configuration."
   ]
  },
  {
   "cell_type": "code",
   "execution_count": null,
   "id": "3850e075-28cb-4d3c-a512-a92deafccd78",
   "metadata": {},
   "outputs": [],
   "source": [
    "uri='neo4j://localhost:7687'\n",
    "username='neo4j'\n",
    "password='neo4jneo4j'\n",
    "db='transaction2'"
   ]
  },
  {
   "cell_type": "code",
   "execution_count": null,
   "id": "9c4f6868-518b-43d2-8309-e9a5f3647c20",
   "metadata": {},
   "outputs": [],
   "source": [
    "from neo4j import GraphDatabase\n",
    "\n",
    "driver = GraphDatabase.driver(uri=uri, auth=(username,password))"
   ]
  },
  {
   "cell_type": "code",
   "execution_count": null,
   "id": "0b7d68df-1f35-43d0-8585-4edec71840c0",
   "metadata": {},
   "outputs": [],
   "source": [
    "class Neo4jConnection:\n",
    "    def __init__(self, uri, user, password):\n",
    "        try:\n",
    "            self.__driver = GraphDatabase.driver(uri, auth=(user, password))\n",
    "            print('Driver is successfully created.')\n",
    "        except Exception as e:\n",
    "            print(f'Failed to create the driver: {e}')\n",
    "        \n",
    "    def close(self):\n",
    "        self.__driver.close()\n",
    "        \n",
    "    def query(self, query, parameters=None, db=None):\n",
    "        session = None\n",
    "        response = None\n",
    "        try:\n",
    "            session = self.__driver.session(database=db) if db is not None else self.__driver.session()\n",
    "            response = list(session.run(query,parameters=parameters))\n",
    "        except Exception as e:\n",
    "            print(f'Query failed: {e}')\n",
    "        finally:\n",
    "            if session is not None:\n",
    "                session.close()\n",
    "        return response\n",
    "        "
   ]
  },
  {
   "cell_type": "markdown",
   "id": "254727fa-999e-4254-9f01-c8465f8b2eab",
   "metadata": {},
   "source": [
    "Create connection."
   ]
  },
  {
   "cell_type": "code",
   "execution_count": null,
   "id": "25f7caf9-0f13-4b58-9cb2-7ac52727608a",
   "metadata": {},
   "outputs": [],
   "source": [
    "conn = Neo4jConnection(uri, username, password)"
   ]
  },
  {
   "cell_type": "markdown",
   "id": "bd61d65a-209b-419d-8a84-dceda95ea78e",
   "metadata": {},
   "source": [
    "Create the database if not exist"
   ]
  },
  {
   "cell_type": "code",
   "execution_count": null,
   "id": "16a7ef6f-86a5-4a07-aeec-24bef3738a63",
   "metadata": {},
   "outputs": [],
   "source": [
    "conn.query(f'CREATE DATABASE {db} IF NOT EXISTS')"
   ]
  },
  {
   "cell_type": "markdown",
   "id": "ddd4750a-7b6f-4024-af56-db886ff0a629",
   "metadata": {},
   "source": [
    "Create constraints and indexes"
   ]
  },
  {
   "cell_type": "code",
   "execution_count": null,
   "id": "220368d4-0549-472f-8b9f-32aa1467922f",
   "metadata": {},
   "outputs": [],
   "source": [
    "conn.query('CREATE CONSTRAINT accounts IF NOT EXISTS FOR (a:Account) REQUIRE a.account_number IS UNIQUE',db=db)\n",
    "conn.query('CREATE CONSTRAINT customers IF NOT EXISTS FOR (c:Customer) REQUIRE c.cif IS UNIQUE',db=db)\n",
    "conn.query('CREATE CONSTRAINT accounts IF NOT EXISTS FOR (acc:Account) REQUIRE acc.cif IS UNIQUE',db=db)\n",
    "conn.query('CREATE CONSTRAINT credit_cards IF NOT EXISTS FOR (cc:Credit_card) REQUIRE cc.card_number IS UNIQUE',db=db)\n",
    "conn.query('CREATE CONSTRAINT merchants IF NOT EXISTS FOR (m:Merchant) REQUIRE m.name IS UNIQUE',db=db)\n",
    "conn.query('CREATE CONSTRAINT countries IF NOT EXISTS FOR (co:Country) REQUIRE co.name IS UNIQUE',db=db)\n",
    "conn.query('CREATE CONSTRAINT addresses IF NOT EXISTS FOR (a:Address) REQUIRE a.address_line IS UNIQUE',db=db)\n",
    "conn.query('CREATE CONSTRAINT transfers IF NOT EXISTS FOR (t:Transfer) REQUIRE t.id IS UNIQUE',db=db)\n",
    "conn.query('CREATE CONSTRAINT purchases IF NOT EXISTS FOR (p:Purchase) REQUIRE p.id IS UNIQUE',db=db)\n",
    "conn.query('CREATE INDEX transfer_datetime IF NOT EXISTS FOR (t:Transfer) ON (t.datetime)',db=db)\n",
    "conn.query('CREATE INDEX purchase_datetime IF NOT EXISTS FOR (p:Purchase) ON (p.datetime)',db=db)"
   ]
  },
  {
   "cell_type": "markdown",
   "id": "99e5e3b6-4b43-420f-9a91-c4e2e6c9b7e0",
   "metadata": {},
   "source": [
    "### Insert country nodes"
   ]
  },
  {
   "cell_type": "code",
   "execution_count": null,
   "id": "2d6cdb4d-1ca2-49f5-86a2-803fc68e7e91",
   "metadata": {},
   "outputs": [],
   "source": [
    "query = '''\n",
    "UNWIND $rows AS row\n",
    "MERGE(co:Country {name:row})\n",
    "\n",
    "RETURN COUNT(*) AS total\n",
    "'''\n",
    "\n",
    "conn.query(query, parameters={'rows':customers['Country'].unique()}, db=db)"
   ]
  },
  {
   "cell_type": "markdown",
   "id": "5d051086-c467-48d6-8c48-793a38d6f89a",
   "metadata": {},
   "source": [
    "### Insert `(Customer)-[:LIVES_AT]->(Address)-[:LOCATED_IN]->(Country)`"
   ]
  },
  {
   "cell_type": "code",
   "execution_count": null,
   "id": "eaff48c0-107a-4110-8def-d9021baac07d",
   "metadata": {
    "tags": []
   },
   "outputs": [],
   "source": [
    "query = '''\n",
    "UNWIND $rows AS row\n",
    "MATCH(co:Country {name:row.Country})\n",
    "MERGE (c:Customer {cif:row.CIF, age:row.Age, email_address:row.EmailAddress, first_name:row.FirstName, \n",
    "                  last_name:row.LastName, phone_number:row.PhoneNumber, gender:row.Gender, \n",
    "    job_title:row.JobTitle})\n",
    "MERGE (a:Address {address_line:row.Address})\n",
    "MERGE(c)-[:LIVES_AT]->(a)-[:LOCATED_IN]->(co)\n",
    "\n",
    "RETURN count(*) AS total\n",
    "'''\n",
    "\n",
    "conn.query(query, parameters={'rows':customers.to_dict('records')},db=db)"
   ]
  },
  {
   "cell_type": "markdown",
   "id": "c1ed36cf-515d-4ee5-b92b-437d35f74bc6",
   "metadata": {},
   "source": [
    "### Insert merchant nodes"
   ]
  },
  {
   "cell_type": "code",
   "execution_count": null,
   "id": "d8c12b4b-a64f-48ee-98d1-df2bc99d7dbb",
   "metadata": {},
   "outputs": [],
   "source": [
    "## Create merchant nodes\n",
    "\n",
    "query = '''\n",
    "UNWIND $rows AS row\n",
    "MERGE(m:Merchant {name:row})\n",
    "\n",
    "RETURN COUNT(*) AS total\n",
    "'''\n",
    "\n",
    "conn.query(query, parameters={'rows':purchases['Merchant'].unique()},db=db)"
   ]
  },
  {
   "cell_type": "markdown",
   "id": "7d9dd3e8-a0bf-48da-bdd7-fee2c1b1a0ac",
   "metadata": {},
   "source": [
    "### Create `(Customer)-[:HAS]->(Credit_card)`"
   ]
  },
  {
   "cell_type": "code",
   "execution_count": null,
   "id": "cc80db7f-e3ed-4b43-86c6-4587f9da300f",
   "metadata": {},
   "outputs": [],
   "source": [
    "## Create (customer)-[:HAS]->(credit_card)\n",
    "\n",
    "query = '''\n",
    "UNWIND $rows AS row\n",
    "MATCH(c:Customer {cif:row.CIF})\n",
    "MERGE(c)-[:HAS]->(cc:Credit_card {card_number:row.CardNumber})\n",
    "\n",
    "RETURN COUNT(*) AS total\n",
    "'''\n",
    "\n",
    "conn.query(query, parameters={'rows':customers.to_dict('records')}, db=db)"
   ]
  },
  {
   "cell_type": "markdown",
   "id": "62e99b2b-d6ba-484c-bbf1-95f3603d4960",
   "metadata": {},
   "source": [
    "### Create `(Credit_card)-[:BUY]->(Purchase)<-[:SELL]-(merchant)`"
   ]
  },
  {
   "cell_type": "code",
   "execution_count": null,
   "id": "96f52520-b8f1-4789-8a2c-597518cc5998",
   "metadata": {},
   "outputs": [],
   "source": [
    "## Create (credit_card)-[:PURCHASED_FROM]->(merchant)\n",
    "\n",
    "query = '''\n",
    "UNWIND $rows AS row\n",
    "MATCH(cc:Credit_card {card_number:row.CardNumber}),(m:Merchant {name:row.Merchant})\n",
    "MERGE(p:Purchase {id:row.TransactionID,amount:row.Amount,datetime:row.PurchaseDatetime})\n",
    "MERGE(cc)-[:BUY]->(p)<-[:SELL]-(m) \n",
    "    \n",
    "RETURN COUNT(*) AS total\n",
    "'''\n",
    "\n",
    "conn.query(query, parameters={'rows':purchases_cleaned.to_dict('records')},db=db)"
   ]
  },
  {
   "cell_type": "markdown",
   "id": "ad75ebbf-8bb7-4820-b896-9582fb467f90",
   "metadata": {},
   "source": [
    "### add `issuer` property to `Credit_card` node"
   ]
  },
  {
   "cell_type": "code",
   "execution_count": null,
   "id": "bfea9501-9d5f-4e59-be35-7c7a1171a9cf",
   "metadata": {},
   "outputs": [],
   "source": [
    "query = '''\n",
    "UNWIND $rows AS row\n",
    "MATCH(cc:Credit_card {card_number:row.CardNumber})\n",
    "SET cc.issuer=row.CardIssuer\n",
    "\n",
    "RETURN COUNT(*) AS total\n",
    "'''\n",
    "\n",
    "conn.query(query, parameters={'rows':purchases_cleaned.to_dict('records')},db=db)"
   ]
  },
  {
   "cell_type": "markdown",
   "id": "b7a6017e-3ac3-486d-a52a-20ba7b4420d0",
   "metadata": {},
   "source": [
    "### Create `(customer)-[:HAS]->(account)`"
   ]
  },
  {
   "cell_type": "code",
   "execution_count": null,
   "id": "09252dbe-487a-42a7-9260-9fe9f12f8843",
   "metadata": {},
   "outputs": [],
   "source": [
    "## Create (customer)-[:HAS]->(account)\n",
    "\n",
    "query = '''\n",
    "UNWIND $rows AS row\n",
    "MATCH(c:Customer {cif:row.CIF})\n",
    "MERGE(c)-[:HAS]->(a:Account {account_number:row.AccountNumber})\n",
    "\n",
    "RETURN COUNT(*) AS total\n",
    "'''\n",
    "\n",
    "conn.query(query, parameters={'rows':customers.to_dict('records')},db=db)"
   ]
  },
  {
   "cell_type": "markdown",
   "id": "8d1b324b-1d7f-4f05-a305-598d512034ab",
   "metadata": {},
   "source": [
    "### Create `(account)-[:TRANSFER_IN]->(Transfer)<-[:TRANSFER_OUT]-(Account)`"
   ]
  },
  {
   "cell_type": "code",
   "execution_count": null,
   "id": "bf0a2375-a3f6-4f90-9845-acc05c05d650",
   "metadata": {},
   "outputs": [],
   "source": [
    "query = '''\n",
    "UNWIND $rows AS row\n",
    "MATCH(a:Account {account_number:row.SenderAccountNumber}),(b:Account {account_number:row.ReceiverAccountNumber})\n",
    "MERGE(t:Transfer {id:row.TransactionID,amount:row.Amount,datetime:row.TransferDatetime})\n",
    "MERGE(a)-[:TRANSFER_IN]->(t)<-[:TRANSFER_OUT]-(b)\n",
    "\n",
    "RETURN COUNT(*) AS total\n",
    "'''\n",
    "\n",
    "conn.query(query, parameters={'rows':transfers_cleaned.to_dict('records')},db=db)"
   ]
  },
  {
   "cell_type": "markdown",
   "id": "89796c4a-ed5f-4d5e-abae-e68a90d7f0aa",
   "metadata": {},
   "source": [
    "Done"
   ]
  }
 ],
 "metadata": {
  "kernelspec": {
   "display_name": "Python 3 (ipykernel)",
   "language": "python",
   "name": "python3"
  },
  "language_info": {
   "codemirror_mode": {
    "name": "ipython",
    "version": 3
   },
   "file_extension": ".py",
   "mimetype": "text/x-python",
   "name": "python",
   "nbconvert_exporter": "python",
   "pygments_lexer": "ipython3",
   "version": "3.10.9"
  }
 },
 "nbformat": 4,
 "nbformat_minor": 5
}
