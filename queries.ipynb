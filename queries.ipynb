{
 "cells": [
  {
   "cell_type": "markdown",
   "id": "a712eaee-bf79-4ba7-bf99-00d766be03d6",
   "metadata": {},
   "source": [
    "### Most valuable merchants"
   ]
  },
  {
   "cell_type": "raw",
   "id": "03200d2d-e05f-458e-a5e0-2d8467f4f634",
   "metadata": {},
   "source": [
    "MATCH (t:Purchase)<-[:SELL]-(m:Merchant)\n",
    "RETURN m.name, SUM(t.amount) AS total\n",
    "ORDER BY SUM(t.amount) DESC\n",
    "LIMIT 10"
   ]
  },
  {
   "cell_type": "markdown",
   "id": "bde0460f-4e60-480b-bf26-f681cac69ecc",
   "metadata": {},
   "source": [
    "Result:"
   ]
  },
  {
   "cell_type": "raw",
   "id": "53dbd028-f13a-4e96-be38-3ea80add5e67",
   "metadata": {},
   "source": [
    "╒══════════════════╤══════════════════╕\n",
    "│m.name            │total             │\n",
    "╞══════════════════╪══════════════════╡\n",
    "│\"It Smart Group\"  │3769957.383542169 │\n",
    "├──────────────────┼──────────────────┤\n",
    "│\"Areon Impex\"     │3583469.9180520033│\n",
    "├──────────────────┼──────────────────┤\n",
    "│\"21st Century Fox\"│3572767.081992541 │\n",
    "├──────────────────┼──────────────────┤\n",
    "│\"Vodafone\"        │3566854.7667955994│\n",
    "├──────────────────┼──────────────────┤\n",
    "│\"Amazon.com\"      │3540095.287769094 │\n",
    "├──────────────────┼──────────────────┤\n",
    "│\"Demaco\"          │3524523.1630317084│\n",
    "├──────────────────┼──────────────────┤\n",
    "│\"Facebook\"        │3517539.635354998 │\n",
    "├──────────────────┼──────────────────┤\n",
    "│\"Zepter\"          │3490776.4376936606│\n",
    "├──────────────────┼──────────────────┤\n",
    "│\"ExxonMobil\"      │3483800.2829920193│\n",
    "├──────────────────┼──────────────────┤\n",
    "│\"Metro Cash&Carry\"│3457534.249150458 │"
   ]
  },
  {
   "cell_type": "markdown",
   "id": "0ea3ce65-6aff-4f5a-8a8a-7b3e39fde6e1",
   "metadata": {},
   "source": [
    "### Customers with the most credit card transactions"
   ]
  },
  {
   "cell_type": "raw",
   "id": "2632e23f-d242-4864-a9a9-e4cc4a7fe18f",
   "metadata": {},
   "source": [
    "MATCH (c:Customer)-[:HAS]->(cc:Credit_card)-[:BUY]->(p:Purchase)\n",
    "RETURN \n",
    "    c.first_name + ' ' + c.last_name AS name,\n",
    "    COUNT(p) AS total_purchase,\n",
    "    SUM(p.amount) AS total_amount\n",
    "ORDER BY COUNT(p) DESC \n",
    "LIMIT 10"
   ]
  },
  {
   "cell_type": "markdown",
   "id": "fa108457-bb72-47fb-971f-873246d4e8e6",
   "metadata": {},
   "source": [
    "Result:"
   ]
  },
  {
   "cell_type": "raw",
   "id": "e0ec3df3-2675-4990-9e66-fcb215545544",
   "metadata": {},
   "source": [
    "╒═════════════════╤══════════════╤══════════════════╕\n",
    "│name             │total_purchase│total_amount      │\n",
    "╞═════════════════╪══════════════╪══════════════════╡\n",
    "│\"Dani Flanders\"  │179           │1882640.2654660696│\n",
    "├─────────────────┼──────────────┼──────────────────┤\n",
    "│\"Greta Swan\"     │179           │1978438.3806692604│\n",
    "├─────────────────┼──────────────┼──────────────────┤\n",
    "│\"Mark Jobson\"    │179           │1740844.7296802902│\n",
    "├─────────────────┼──────────────┼──────────────────┤\n",
    "│\"Janice Simmons\" │178           │1680983.5578798803│\n",
    "├─────────────────┼──────────────┼──────────────────┤\n",
    "│\"Candace Shea\"   │178           │1814280.138332621 │\n",
    "├─────────────────┼──────────────┼──────────────────┤\n",
    "│\"Matt Carter\"    │178           │1801833.8113858304│\n",
    "├─────────────────┼──────────────┼──────────────────┤\n",
    "│\"Hayden Garcia\"  │177           │1756431.3128474005│\n",
    "├─────────────────┼──────────────┼──────────────────┤\n",
    "│\"Rebecca Corbett\"│177           │1763501.33452983  │\n",
    "├─────────────────┼──────────────┼──────────────────┤\n",
    "│\"Rowan Harper\"   │177           │1763699.88887497  │\n",
    "├─────────────────┼──────────────┼──────────────────┤\n",
    "│\"Morgan James\"   │177           │1742265.338604869 │\n",
    "└─────────────────┴──────────────┴──────────────────┘"
   ]
  },
  {
   "cell_type": "markdown",
   "id": "5d4d059d-3a4f-43c7-bcb7-ff0aea116d33",
   "metadata": {},
   "source": [
    "### Customers with similar shopping interests in 2021"
   ]
  },
  {
   "cell_type": "raw",
   "id": "a890e4f3-d857-426d-aa1d-b95095a8cd12",
   "metadata": {},
   "source": [
    "MATCH \n",
    "    (subject:Customer {first_name: 'Peter', last_name: 'Bailey'}),\n",
    "    (subject)-[:HAS]->()-[:BUY]->()<-[:SELL]-(merchant:Merchant),\n",
    "    (person:Customer)-[:HAS]->()-[:BUY]->(purchase:Purchase)<-[:SELL]-(merchant)\n",
    "WHERE\n",
    "    purchase.datetime.year = 2021\n",
    "RETURN\n",
    "    person.first_name + ' ' + person.last_name AS full_name,\n",
    "    COUNT(merchant) AS score,\n",
    "    COLLECT(DISTINCT merchant.name) AS merchants\n",
    "ORDER BY score DESC\n",
    "LIMIT 10"
   ]
  },
  {
   "cell_type": "markdown",
   "id": "8eb1a760-6acc-4fd5-b32f-48304689878d",
   "metadata": {},
   "source": [
    "Result:"
   ]
  },
  {
   "cell_type": "raw",
   "id": "dd94a48e-e50b-4451-aa17-013b87e4c234",
   "metadata": {},
   "source": [
    "╒═════════════════╤═════╤══════════════════════════════════════════════════════════════════════╕\n",
    "│full_name        │score│merchants                                                             │\n",
    "╞═════════════════╪═════╪══════════════════════════════════════════════════════════════════════╡\n",
    "│\"Greta Swan\"     │569  │[\"Mars\", \"Global Print\", \"Facebook\", \"ExxonMobil\", \"Biolife Grup\", \"Le│\n",
    "│                 │     │adertech Consulting\", \"Amazon.com\", \"Coca-Cola Company\", \"DynCorp\", \"T│\n",
    "│                 │     │elekom\", \"21st Century Fox\", \"CarMax\", \"Apple Inc.\", \"Team Guard SRL\",│\n",
    "│                 │     │ \"Comodo\", \"It Smart Group\", \"Areon Impex\", \"Zepter\", \"Boeing\", \"BuzzF│\n",
    "│                 │     │eed\", \"Metro Cash&Carry\", \"Danone\", \"Demaco\", \"Vodafone\", \"AECOM\", \"Er│\n",
    "│                 │     │ickson\", \"UPC\", \"ENEL\"]                                               │\n",
    "├─────────────────┼─────┼──────────────────────────────────────────────────────────────────────┤\n",
    "│\"Janice Simmons\" │564  │[\"Mars\", \"Global Print\", \"Facebook\", \"ExxonMobil\", \"Biolife Grup\", \"Le│\n",
    "│                 │     │adertech Consulting\", \"Amazon.com\", \"Coca-Cola Company\", \"DynCorp\", \"T│\n",
    "│                 │     │elekom\", \"21st Century Fox\", \"CarMax\", \"Apple Inc.\", \"Team Guard SRL\",│\n",
    "│                 │     │ \"Comodo\", \"It Smart Group\", \"Areon Impex\", \"Zepter\", \"Boeing\", \"BuzzF│\n",
    "│                 │     │eed\", \"Metro Cash&Carry\", \"Danone\", \"Demaco\", \"Vodafone\", \"AECOM\", \"Er│\n",
    "│                 │     │ickson\", \"UPC\", \"ENEL\"]                                               │\n",
    "├─────────────────┼─────┼──────────────────────────────────────────────────────────────────────┤\n",
    "│\"Candace Shea\"   │563  │[\"Mars\", \"Global Print\", \"Facebook\", \"ExxonMobil\", \"Biolife Grup\", \"Le│\n",
    "│                 │     │adertech Consulting\", \"Amazon.com\", \"Coca-Cola Company\", \"DynCorp\", \"T│\n",
    "│                 │     │elekom\", \"21st Century Fox\", \"CarMax\", \"Apple Inc.\", \"Team Guard SRL\",│\n",
    "│                 │     │ \"Comodo\", \"It Smart Group\", \"Areon Impex\", \"Zepter\", \"Boeing\", \"BuzzF│\n",
    "│                 │     │eed\", \"Metro Cash&Carry\", \"Danone\", \"Demaco\", \"Vodafone\", \"AECOM\", \"Er│\n",
    "│                 │     │ickson\", \"UPC\", \"ENEL\"]                                               │\n",
    "├─────────────────┼─────┼──────────────────────────────────────────────────────────────────────┤\n",
    "│\"Rebecca Corbett\"│547  │[\"Mars\", \"Global Print\", \"Facebook\", \"ExxonMobil\", \"Biolife Grup\", \"Le│\n",
    "│                 │     │adertech Consulting\", \"Amazon.com\", \"Coca-Cola Company\", \"DynCorp\", \"T│\n",
    "│                 │     │elekom\", \"21st Century Fox\", \"CarMax\", \"Apple Inc.\", \"Team Guard SRL\",│\n",
    "│                 │     │ \"Comodo\", \"It Smart Group\", \"Areon Impex\", \"Zepter\", \"Boeing\", \"BuzzF│\n",
    "│                 │     │eed\", \"Metro Cash&Carry\", \"Danone\", \"Demaco\", \"Vodafone\", \"AECOM\", \"Er│\n",
    "│                 │     │ickson\", \"UPC\", \"ENEL\"]                                               │\n",
    "├─────────────────┼─────┼──────────────────────────────────────────────────────────────────────┤\n",
    "│\"Dani Flanders\"  │540  │[\"Mars\", \"Global Print\", \"Facebook\", \"ExxonMobil\", \"Biolife Grup\", \"Le│\n",
    "│                 │     │adertech Consulting\", \"Amazon.com\", \"Coca-Cola Company\", \"DynCorp\", \"T│\n",
    "│                 │     │elekom\", \"21st Century Fox\", \"CarMax\", \"Apple Inc.\", \"Team Guard SRL\",│\n",
    "│                 │     │ \"Comodo\", \"It Smart Group\", \"Areon Impex\", \"Zepter\", \"Boeing\", \"BuzzF│\n",
    "│                 │     │eed\", \"Metro Cash&Carry\", \"Danone\", \"Demaco\", \"Vodafone\", \"AECOM\", \"Er│\n",
    "│                 │     │ickson\", \"UPC\", \"ENEL\"]                                               │\n",
    "├─────────────────┼─────┼──────────────────────────────────────────────────────────────────────┤\n",
    "│\"Hayden Garcia\"  │539  │[\"Mars\", \"Global Print\", \"Facebook\", \"ExxonMobil\", \"Biolife Grup\", \"Le│\n",
    "│                 │     │adertech Consulting\", \"Amazon.com\", \"Coca-Cola Company\", \"DynCorp\", \"T│\n",
    "│                 │     │elekom\", \"21st Century Fox\", \"CarMax\", \"Apple Inc.\", \"Team Guard SRL\",│\n",
    "│                 │     │ \"Comodo\", \"It Smart Group\", \"Areon Impex\", \"Zepter\", \"Boeing\", \"BuzzF│\n",
    "│                 │     │eed\", \"Metro Cash&Carry\", \"Danone\", \"Demaco\", \"Vodafone\", \"AECOM\", \"Er│\n",
    "│                 │     │ickson\", \"UPC\", \"ENEL\"]                                               │\n",
    "├─────────────────┼─────┼──────────────────────────────────────────────────────────────────────┤\n",
    "│\"Morgan James\"   │539  │[\"Mars\", \"Global Print\", \"Facebook\", \"ExxonMobil\", \"Biolife Grup\", \"Le│\n",
    "│                 │     │adertech Consulting\", \"Amazon.com\", \"Coca-Cola Company\", \"DynCorp\", \"T│\n",
    "│                 │     │elekom\", \"21st Century Fox\", \"CarMax\", \"Apple Inc.\", \"Team Guard SRL\",│\n",
    "│                 │     │ \"Comodo\", \"It Smart Group\", \"Areon Impex\", \"Zepter\", \"Boeing\", \"BuzzF│\n",
    "│                 │     │eed\", \"Metro Cash&Carry\", \"Danone\", \"Demaco\", \"Vodafone\", \"AECOM\", \"Er│\n",
    "│                 │     │ickson\", \"UPC\", \"ENEL\"]                                               │\n",
    "├─────────────────┼─────┼──────────────────────────────────────────────────────────────────────┤\n",
    "│\"Matt Carter\"    │532  │[\"Mars\", \"Global Print\", \"Facebook\", \"ExxonMobil\", \"Biolife Grup\", \"Le│\n",
    "│                 │     │adertech Consulting\", \"Amazon.com\", \"Coca-Cola Company\", \"DynCorp\", \"T│\n",
    "│                 │     │elekom\", \"21st Century Fox\", \"CarMax\", \"Apple Inc.\", \"Team Guard SRL\",│\n",
    "│                 │     │ \"Comodo\", \"It Smart Group\", \"Areon Impex\", \"Zepter\", \"Boeing\", \"BuzzF│\n",
    "│                 │     │eed\", \"Metro Cash&Carry\", \"Danone\", \"Demaco\", \"Vodafone\", \"AECOM\", \"Er│\n",
    "│                 │     │ickson\", \"UPC\", \"ENEL\"]                                               │\n",
    "├─────────────────┼─────┼──────────────────────────────────────────────────────────────────────┤\n",
    "│\"Erick Ingram\"   │526  │[\"Mars\", \"Global Print\", \"Facebook\", \"ExxonMobil\", \"Biolife Grup\", \"Le│\n",
    "│                 │     │adertech Consulting\", \"Amazon.com\", \"Coca-Cola Company\", \"DynCorp\", \"T│\n",
    "│                 │     │elekom\", \"21st Century Fox\", \"CarMax\", \"Apple Inc.\", \"Team Guard SRL\",│\n",
    "│                 │     │ \"Comodo\", \"It Smart Group\", \"Areon Impex\", \"Zepter\", \"Boeing\", \"BuzzF│\n",
    "│                 │     │eed\", \"Metro Cash&Carry\", \"Danone\", \"Demaco\", \"Vodafone\", \"AECOM\", \"Er│\n",
    "│                 │     │ickson\", \"UPC\", \"ENEL\"]                                               │\n",
    "├─────────────────┼─────┼──────────────────────────────────────────────────────────────────────┤\n",
    "│\"Rowan Harper\"   │522  │[\"Mars\", \"Global Print\", \"Facebook\", \"ExxonMobil\", \"Biolife Grup\", \"Le│\n",
    "│                 │     │adertech Consulting\", \"Amazon.com\", \"Coca-Cola Company\", \"DynCorp\", \"T│\n",
    "│                 │     │elekom\", \"21st Century Fox\", \"CarMax\", \"Apple Inc.\", \"Team Guard SRL\",│\n",
    "│                 │     │ \"Comodo\", \"It Smart Group\", \"Areon Impex\", \"Zepter\", \"Boeing\", \"BuzzF│\n",
    "│                 │     │eed\", \"Metro Cash&Carry\", \"Danone\", \"Demaco\", \"Vodafone\", \"AECOM\", \"Er│\n",
    "│                 │     │ickson\", \"UPC\", \"ENEL\"]                                               │\n",
    "└─────────────────┴─────┴──────────────────────────────────────────────────────────────────────┘\n"
   ]
  },
  {
   "cell_type": "code",
   "execution_count": null,
   "id": "f59d7f13-7536-4821-be84-ef24dff723b8",
   "metadata": {},
   "outputs": [],
   "source": []
  }
 ],
 "metadata": {
  "kernelspec": {
   "display_name": "Python 3 (ipykernel)",
   "language": "python",
   "name": "python3"
  },
  "language_info": {
   "codemirror_mode": {
    "name": "ipython",
    "version": 3
   },
   "file_extension": ".py",
   "mimetype": "text/x-python",
   "name": "python",
   "nbconvert_exporter": "python",
   "pygments_lexer": "ipython3",
   "version": "3.10.9"
  }
 },
 "nbformat": 4,
 "nbformat_minor": 5
}
